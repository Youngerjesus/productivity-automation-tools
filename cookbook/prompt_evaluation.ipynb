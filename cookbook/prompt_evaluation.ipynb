{
 "cells": [
  {
   "cell_type": "markdown",
   "metadata": {},
   "source": [
    "# Prompt Evaluation \n",
    "\n",
    "글의 논지에서 Reaoning 을 하는 프롬포트의 성능을 측정해보고 개선해보자. \n",
    "\n",
    "(Input, Output) 쌍을 여러개 준비해놓고, Prompt 를 업데이트 하면서 성능을 측정하겠지. \n",
    "- Input: \n",
    "- Output: \n",
    "\n",
    "성능 측정 기준: \n",
    "- Output 과 얼마나 닮아 있는가? Output 과 얼마나 유사한가? \n",
    "\n"
   ]
  },
  {
   "cell_type": "code",
   "execution_count": 3,
   "metadata": {},
   "outputs": [
    {
     "name": "stderr",
     "output_type": "stream",
     "text": [
      "/Users/jeongmin/PycharmProjects/tech-blog-article-summary/venv/lib/python3.9/site-packages/urllib3/__init__.py:35: NotOpenSSLWarning: urllib3 v2 only supports OpenSSL 1.1.1+, currently the 'ssl' module is compiled with 'LibreSSL 2.8.3'. See: https://github.com/urllib3/urllib3/issues/3020\n",
      "  warnings.warn(\n"
     ]
    },
    {
     "name": "stdout",
     "output_type": "stream",
     "text": [
      "INFO:tensorflow:Reading checkpoint PATH/TO/BLEURT-BASE-128.\n"
     ]
    },
    {
     "ename": "AssertionError",
     "evalue": "Could not find BLEURT checkpoint PATH/TO/BLEURT-BASE-128",
     "output_type": "error",
     "traceback": [
      "\u001b[0;31m---------------------------------------------------------------------------\u001b[0m",
      "\u001b[0;31mAssertionError\u001b[0m                            Traceback (most recent call last)",
      "Cell \u001b[0;32mIn[3], line 5\u001b[0m\n\u001b[1;32m      3\u001b[0m \u001b[38;5;66;03m# BLEURT 체크포인트를 지정합니다.\u001b[39;00m\n\u001b[1;32m      4\u001b[0m checkpoint \u001b[38;5;241m=\u001b[39m \u001b[38;5;124m\"\u001b[39m\u001b[38;5;124mPATH/TO/BLEURT-BASE-128\u001b[39m\u001b[38;5;124m\"\u001b[39m\n\u001b[0;32m----> 5\u001b[0m scorer \u001b[38;5;241m=\u001b[39m \u001b[43mscore\u001b[49m\u001b[38;5;241;43m.\u001b[39;49m\u001b[43mBleurtScorer\u001b[49m\u001b[43m(\u001b[49m\u001b[43mcheckpoint\u001b[49m\u001b[43m)\u001b[49m\n\u001b[1;32m      7\u001b[0m \u001b[38;5;66;03m# 참조 텍스트와 생성된 텍스트를 지정합니다.\u001b[39;00m\n\u001b[1;32m      8\u001b[0m references \u001b[38;5;241m=\u001b[39m [\u001b[38;5;124m\"\u001b[39m\u001b[38;5;124mThis is a reference sentence.\u001b[39m\u001b[38;5;124m\"\u001b[39m]\n",
      "File \u001b[0;32m~/PycharmProjects/tech-blog-article-summary/venv/lib/python3.9/site-packages/bleurt/score.py:161\u001b[0m, in \u001b[0;36mBleurtScorer.__init__\u001b[0;34m(self, checkpoint, predict_fn)\u001b[0m\n\u001b[1;32m    158\u001b[0m   checkpoint \u001b[38;5;241m=\u001b[39m _get_default_checkpoint()\n\u001b[1;32m    160\u001b[0m logging\u001b[38;5;241m.\u001b[39minfo(\u001b[38;5;124m\"\u001b[39m\u001b[38;5;124mReading checkpoint \u001b[39m\u001b[38;5;132;01m{}\u001b[39;00m\u001b[38;5;124m.\u001b[39m\u001b[38;5;124m\"\u001b[39m\u001b[38;5;241m.\u001b[39mformat(checkpoint))\n\u001b[0;32m--> 161\u001b[0m \u001b[38;5;28mself\u001b[39m\u001b[38;5;241m.\u001b[39mconfig \u001b[38;5;241m=\u001b[39m \u001b[43mcheckpoint_lib\u001b[49m\u001b[38;5;241;43m.\u001b[39;49m\u001b[43mread_bleurt_config\u001b[49m\u001b[43m(\u001b[49m\u001b[43mcheckpoint\u001b[49m\u001b[43m)\u001b[49m\n\u001b[1;32m    162\u001b[0m max_seq_length \u001b[38;5;241m=\u001b[39m \u001b[38;5;28mself\u001b[39m\u001b[38;5;241m.\u001b[39mconfig[\u001b[38;5;124m\"\u001b[39m\u001b[38;5;124mmax_seq_length\u001b[39m\u001b[38;5;124m\"\u001b[39m]\n\u001b[1;32m    163\u001b[0m vocab_file \u001b[38;5;241m=\u001b[39m \u001b[38;5;28mself\u001b[39m\u001b[38;5;241m.\u001b[39mconfig[\u001b[38;5;124m\"\u001b[39m\u001b[38;5;124mvocab_file\u001b[39m\u001b[38;5;124m\"\u001b[39m]\n",
      "File \u001b[0;32m~/PycharmProjects/tech-blog-article-summary/venv/lib/python3.9/site-packages/bleurt/checkpoint.py:84\u001b[0m, in \u001b[0;36mread_bleurt_config\u001b[0;34m(path)\u001b[0m\n\u001b[1;32m     82\u001b[0m \u001b[38;5;28;01mdef\u001b[39;00m \u001b[38;5;21mread_bleurt_config\u001b[39m(path):\n\u001b[1;32m     83\u001b[0m \u001b[38;5;250m  \u001b[39m\u001b[38;5;124;03m\"\"\"Reads and checks config file from a BLEURT checkpoint.\"\"\"\u001b[39;00m\n\u001b[0;32m---> 84\u001b[0m   \u001b[38;5;28;01massert\u001b[39;00m tf\u001b[38;5;241m.\u001b[39mio\u001b[38;5;241m.\u001b[39mgfile\u001b[38;5;241m.\u001b[39mexists(path), \\\n\u001b[1;32m     85\u001b[0m       \u001b[38;5;124m\"\u001b[39m\u001b[38;5;124mCould not find BLEURT checkpoint \u001b[39m\u001b[38;5;132;01m{}\u001b[39;00m\u001b[38;5;124m\"\u001b[39m\u001b[38;5;241m.\u001b[39mformat(path)\n\u001b[1;32m     86\u001b[0m   config_path \u001b[38;5;241m=\u001b[39m os\u001b[38;5;241m.\u001b[39mpath\u001b[38;5;241m.\u001b[39mjoin(path, CONFIG_FILE)\n\u001b[1;32m     87\u001b[0m   \u001b[38;5;28;01massert\u001b[39;00m tf\u001b[38;5;241m.\u001b[39mio\u001b[38;5;241m.\u001b[39mgfile\u001b[38;5;241m.\u001b[39mexists(config_path), \\\n\u001b[1;32m     88\u001b[0m       (\u001b[38;5;124m\"\u001b[39m\u001b[38;5;124mCould not find BLEURT config file \u001b[39m\u001b[38;5;132;01m{}\u001b[39;00m\u001b[38;5;124m. Are you sure \u001b[39m\u001b[38;5;132;01m{}\u001b[39;00m\u001b[38;5;124m\"\u001b[39m\n\u001b[1;32m     89\u001b[0m        \u001b[38;5;124m\"\u001b[39m\u001b[38;5;124m is a valid checkpoint?\u001b[39m\u001b[38;5;124m\"\u001b[39m)\u001b[38;5;241m.\u001b[39mformat(config_path, path)\n",
      "\u001b[0;31mAssertionError\u001b[0m: Could not find BLEURT checkpoint PATH/TO/BLEURT-BASE-128"
     ]
    }
   ],
   "source": [
    "from bleurt import score\n",
    "\n",
    "# BLEURT 체크포인트를 지정합니다.\n",
    "checkpoint = \"PATH/TO/BLEURT-BASE-128\"\n",
    "scorer = score.BleurtScorer(checkpoint)\n",
    "\n",
    "# 참조 텍스트와 생성된 텍스트를 지정합니다.\n",
    "references = [\"This is a reference sentence.\"]\n",
    "candidates = [\"This is a generated sentence.\"]\n",
    "\n",
    "# BLEURT 점수를 계산합니다.\n",
    "scores = scorer.score(references, candidates)\n",
    "print(scores)"
   ]
  }
 ],
 "metadata": {
  "kernelspec": {
   "display_name": "Python 3 (ipykernel)",
   "language": "python",
   "name": "python3"
  },
  "language_info": {
   "codemirror_mode": {
    "name": "ipython",
    "version": 3
   },
   "file_extension": ".py",
   "mimetype": "text/x-python",
   "name": "python",
   "nbconvert_exporter": "python",
   "pygments_lexer": "ipython3",
   "version": "3.9.6"
  }
 },
 "nbformat": 4,
 "nbformat_minor": 2
}
